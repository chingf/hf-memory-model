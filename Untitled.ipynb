{
 "cells": [
  {
   "cell_type": "code",
   "execution_count": 15,
   "metadata": {},
   "outputs": [],
   "source": [
    "import numpy as np\n",
    "import matplotlib.pyplot as plt\n",
    "import seaborn as sns\n",
    "import networkx as nx\n",
    "import scipy.cluster.hierarchy as spc\n",
    "from collections import defaultdict\n",
    "from LearningNetwork import LearningNetwork\n",
    "from IsolatedNetwork import IsolatedNetwork"
   ]
  },
  {
   "cell_type": "code",
   "execution_count": 26,
   "metadata": {},
   "outputs": [],
   "source": [
    "def clusters_to_sort_indices(clusters):\n",
    "    sorted_indices = []\n",
    "    for c in np.unique(clusters):\n",
    "        sorted_indices.extend([\n",
    "            _i for _i, _c in enumerate(clusters) if _c == c\n",
    "            ])\n",
    "    return np.array(sorted_indices)\n",
    "\n",
    "def get_new_J(J, sorted_indices):\n",
    "    _J = np.zeros(J.shape)\n",
    "    for i in range(J.shape[0]):\n",
    "        _i = np.argwhere(sorted_indices == i)[0,0]\n",
    "        for j in range(J.shape[1]):\n",
    "            _j = np.argwhere(sorted_indices == j)[0,0]\n",
    "            _J[_i, _j] = J[i, j]\n",
    "    return _J"
   ]
  },
  {
   "cell_type": "code",
   "execution_count": 2,
   "metadata": {},
   "outputs": [],
   "source": [
    "N = 100\n",
    "K_inhib = 0.18\n",
    "network = IsolatedNetwork(N=N, K_inhib=K_inhib, mode=\"wta\", args=5)"
   ]
  },
  {
   "cell_type": "code",
   "execution_count": 250,
   "metadata": {},
   "outputs": [
    {
     "data": {
      "image/png": "[encoded data removed]",
      "text/plain": [
       "<Figure size 432x288 with 1 Axes>"
      ]
     },
     "metadata": {
      "needs_background": "light"
     },
     "output_type": "display_data"
    }
   ],
   "source": [
    "plt.figure()\n",
    "xs = np.arange(N)\n",
    "xs = np.linspace(0,5,N)\n",
    "exp_xs = np.exp(xs)\n",
    "plt.plot(exp_xs/exp_xs.max())\n",
    "plt.show()"
   ]
  },
  {
   "cell_type": "code",
   "execution_count": 269,
   "metadata": {},
   "outputs": [],
   "source": [
    "J = np.random.normal(0, 1, (N, N))\n",
    "\n",
    "J = np.zeros((N, N))\n",
    "exp_xs = np.exp(np.linspace(0, 5, N))\n",
    "for i in np.arange(N):\n",
    "    for j in np.arange(N):\n",
    "        if i == j: continue\n",
    "        #if abs(i-j) >= 50: continue\n",
    "        distance = min(abs(i-j), 70)\n",
    "        excit = exp_xs[distance]/exp_xs.max()\n",
    "        val = np.random.choice([-1, 1], p=[1-excit, excit])\n",
    "        J[i, j] = val\n",
    "        #J[j, i] = val\n",
    "\n",
    "#J = np.random.choice([-1, 1], p=[0.9, 0.1], size=(N,N))"
   ]
  },
  {
   "cell_type": "code",
   "execution_count": 270,
   "metadata": {},
   "outputs": [],
   "source": [
    "pdist = spc.distance.pdist(J)\n",
    "linkage = spc.linkage(pdist, method='weighted')\n",
    "idx = spc.fcluster(linkage, 0.5 * pdist.max(), 'distance')\n",
    "\n",
    "sorted_indices = clusters_to_sort_indices(idx)\n",
    "new_J = get_new_J(J, sorted_indices)"
   ]
  },
  {
   "cell_type": "code",
   "execution_count": 271,
   "metadata": {},
   "outputs": [
    {
     "data": {
      "text/plain": [
       "<matplotlib.image.AxesImage at 0x7f7426f4e790>"
      ]
     },
     "execution_count": 271,
     "metadata": {},
     "output_type": "execute_result"
    },
    {
     "data": {
      "image/png": "[encoded data removed]",
      "text/plain": [
       "<Figure size 432x288 with 1 Axes>"
      ]
     },
     "metadata": {
      "needs_background": "light"
     },
     "output_type": "display_data"
    },
    {
     "data": {
      "image/png": "[encoded data removed]",
      "text/plain": [
       "<Figure size 432x288 with 1 Axes>"
      ]
     },
     "metadata": {
      "needs_background": "light"
     },
     "output_type": "display_data"
    }
   ],
   "source": [
    "plt.figure()\n",
    "plt.imshow(J)\n",
    "\n",
    "plt.figure()\n",
    "plt.imshow(new_J)"
   ]
  },
  {
   "cell_type": "code",
   "execution_count": null,
   "metadata": {},
   "outputs": [],
   "source": []
  }
 ],
 "metadata": {
  "kernelspec": {
   "display_name": "Python 3",
   "language": "python",
   "name": "python3"
  },
  "language_info": {
   "codemirror_mode": {
    "name": "ipython",
    "version": 3
   },
   "file_extension": ".py",
   "mimetype": "text/x-python",
   "name": "python",
   "nbconvert_exporter": "python",
   "pygments_lexer": "ipython3",
   "version": "3.7.6"
  }
 },
 "nbformat": 4,
 "nbformat_minor": 4
}
